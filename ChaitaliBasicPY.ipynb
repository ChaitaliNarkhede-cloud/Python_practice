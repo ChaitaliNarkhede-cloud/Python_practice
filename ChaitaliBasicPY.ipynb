{
  "nbformat": 4,
  "nbformat_minor": 0,
  "metadata": {
    "colab": {
      "provenance": [],
      "authorship_tag": "ABX9TyOIkgelVd+hKRFSOE20uzPJ",
      "include_colab_link": true
    },
    "kernelspec": {
      "name": "python3",
      "display_name": "Python 3"
    },
    "language_info": {
      "name": "python"
    }
  },
  "cells": [
    {
      "cell_type": "markdown",
      "metadata": {
        "id": "view-in-github",
        "colab_type": "text"
      },
      "source": [
        "<a href=\"https://colab.research.google.com/github/ChaitaliNarkhede-cloud/Python_practice/blob/main/ChaitaliBasicPY.ipynb\" target=\"_parent\"><img src=\"https://colab.research.google.com/assets/colab-badge.svg\" alt=\"Open In Colab\"/></a>"
      ]
    },
    {
      "cell_type": "code",
      "execution_count": 8,
      "metadata": {
        "colab": {
          "base_uri": "https://localhost:8080/"
        },
        "id": "-03b1xGQZGFs",
        "outputId": "63ab7338-90f9-44b1-f2e1-642e79cc29b5"
      },
      "outputs": [
        {
          "output_type": "stream",
          "name": "stdout",
          "text": [
            "Hello World\n"
          ]
        }
      ],
      "source": [
        "# Python is a case sensitive language\n",
        "\n",
        "print('Hello World')\n",
        "\n",
        "#Print(\"HELLO WORLD\") # o/p not came P is cap.\n",
        "#use of print input so Output return karega\n",
        "\n"
      ]
    },
    {
      "cell_type": "code",
      "source": [
        "print()"
      ],
      "metadata": {
        "colab": {
          "base_uri": "https://localhost:8080/"
        },
        "id": "YPDoCmdLeTIV",
        "outputId": "f107fdea-4a9c-4855-f84c-4336e9541840"
      },
      "execution_count": 9,
      "outputs": [
        {
          "output_type": "stream",
          "name": "stdout",
          "text": [
            "\n"
          ]
        }
      ]
    },
    {
      "cell_type": "code",
      "source": [
        "print(1,2, 3)\n",
        "print()\n"
      ],
      "metadata": {
        "colab": {
          "base_uri": "https://localhost:8080/"
        },
        "id": "gsdlDnjhePFn",
        "outputId": "e5ef1601-b511-4f78-990c-9ace3b67e08e"
      },
      "execution_count": 12,
      "outputs": [
        {
          "output_type": "stream",
          "name": "stdout",
          "text": [
            "1 2 3\n",
            "\n"
          ]
        }
      ]
    },
    {
      "cell_type": "code",
      "source": [
        "print(True, False)"
      ],
      "metadata": {
        "colab": {
          "base_uri": "https://localhost:8080/"
        },
        "id": "cJBub1LNeQxo",
        "outputId": "d2168501-189b-4ed0-87bb-0bfe1b5758be"
      },
      "execution_count": 11,
      "outputs": [
        {
          "output_type": "stream",
          "name": "stdout",
          "text": [
            "True False\n"
          ]
        }
      ]
    },
    {
      "cell_type": "code",
      "source": [
        "print('kashiye')\n",
        "print(\"kaise ho \")"
      ],
      "metadata": {
        "colab": {
          "base_uri": "https://localhost:8080/"
        },
        "id": "PEuAQbsweV13",
        "outputId": "73e33eb9-e602-44fc-ffea-73d06dd291af"
      },
      "execution_count": 13,
      "outputs": [
        {
          "output_type": "stream",
          "name": "stdout",
          "text": [
            "kashiye\n",
            "kaise ho \n"
          ]
        }
      ]
    },
    {
      "cell_type": "code",
      "source": [
        "# print multiple data\n",
        "print('hello', 1, 2.5,True,  )"
      ],
      "metadata": {
        "colab": {
          "base_uri": "https://localhost:8080/"
        },
        "id": "aGUprUrgeSO_",
        "outputId": "8dcd734b-7990-4b1a-b773-2a66d19644cf"
      },
      "execution_count": 14,
      "outputs": [
        {
          "output_type": "stream",
          "name": "stdout",
          "text": [
            "hello 1 2.5 True\n"
          ]
        }
      ]
    },
    {
      "cell_type": "code",
      "source": [
        "#override\n",
        "print('hello',end= \"-\")\n",
        "print('world')"
      ],
      "metadata": {
        "colab": {
          "base_uri": "https://localhost:8080/"
        },
        "id": "oBP8Aq9qfAI2",
        "outputId": "c1abd81f-2fd9-40d5-b5a8-03981fc3af53"
      },
      "execution_count": 17,
      "outputs": [
        {
          "output_type": "stream",
          "name": "stdout",
          "text": [
            "hello-world\n"
          ]
        }
      ]
    },
    {
      "cell_type": "markdown",
      "source": [
        "Data Types"
      ],
      "metadata": {
        "id": "1IwJjfQyfb1j"
      }
    },
    {
      "cell_type": "code",
      "source": [
        "# Integer\n",
        "#type()----> return type of function\n",
        "\n",
        "print(8)\n",
        "\n",
        "# 1*10^308 upto this hold numeric value\n",
        "\n",
        "print(1e309) # INf"
      ],
      "metadata": {
        "colab": {
          "base_uri": "https://localhost:8080/"
        },
        "id": "h3blD1ImfW5V",
        "outputId": "644da175-7149-465c-efef-fd3f1fcb942c"
      },
      "execution_count": 21,
      "outputs": [
        {
          "output_type": "stream",
          "name": "stdout",
          "text": [
            "8\n",
            "inf\n"
          ]
        }
      ]
    },
    {
      "cell_type": "code",
      "source": [
        "# Decimal/Float\n",
        "print(8.55)\n",
        "print(1.7e309) # upto this floating value hold"
      ],
      "metadata": {
        "colab": {
          "base_uri": "https://localhost:8080/"
        },
        "id": "drJo46TffvoP",
        "outputId": "4ef2fbe6-ee35-41a7-eb3b-fce5bbdf4ec0"
      },
      "execution_count": 20,
      "outputs": [
        {
          "output_type": "stream",
          "name": "stdout",
          "text": [
            "8.55\n",
            "inf\n"
          ]
        }
      ]
    },
    {
      "cell_type": "code",
      "source": [
        "#Boolean\n",
        "print(True)\n",
        "print(False)\n",
        "\n",
        "#True=1\n",
        "#False=0"
      ],
      "metadata": {
        "colab": {
          "base_uri": "https://localhost:8080/"
        },
        "id": "dISbCisDf8Mo",
        "outputId": "c9a89d54-91d3-4769-dfe8-21ac0db7ef3d"
      },
      "execution_count": 19,
      "outputs": [
        {
          "output_type": "stream",
          "name": "stdout",
          "text": [
            "True\n",
            "False\n"
          ]
        }
      ]
    },
    {
      "cell_type": "code",
      "source": [
        "# Text/String\n",
        "# hold string + numeric (write in commas '',\" \")\n",
        "\n",
        "print('Hello World')\n",
        "\n",
        "print(\"Hello World\", 123)"
      ],
      "metadata": {
        "colab": {
          "base_uri": "https://localhost:8080/"
        },
        "id": "OUNIaQLKga2v",
        "outputId": "66235754-24e9-44a1-8aeb-3149e048490a"
      },
      "execution_count": 24,
      "outputs": [
        {
          "output_type": "stream",
          "name": "stdout",
          "text": [
            "Hello World\n",
            "Hello World 123\n"
          ]
        }
      ]
    },
    {
      "cell_type": "code",
      "source": [
        "# Complex number\n",
        "print(5+6j)"
      ],
      "metadata": {
        "colab": {
          "base_uri": "https://localhost:8080/"
        },
        "id": "BYqEy_Wwg2ec",
        "outputId": "100bd58b-9932-4ddd-942e-5d9c09b0b619"
      },
      "execution_count": 22,
      "outputs": [
        {
          "output_type": "stream",
          "name": "stdout",
          "text": [
            "(5+6j)\n"
          ]
        }
      ]
    },
    {
      "cell_type": "code",
      "source": [
        "# List in py = array in C\n",
        "print([1,2,3,4])\n"
      ],
      "metadata": {
        "colab": {
          "base_uri": "https://localhost:8080/"
        },
        "id": "mCGsjiDChK99",
        "outputId": "385f81e8-c13e-4da6-b675-4a4a6d5d7e26"
      },
      "execution_count": 37,
      "outputs": [
        {
          "output_type": "stream",
          "name": "stdout",
          "text": [
            "[1, 2, 3, 4]\n"
          ]
        }
      ]
    },
    {
      "cell_type": "code",
      "source": [
        "#Tuple\n",
        "print((1,2,3,4))"
      ],
      "metadata": {
        "colab": {
          "base_uri": "https://localhost:8080/"
        },
        "id": "g2IIyz3gh8BY",
        "outputId": "bcc378f4-d29c-4c33-8424-4599e0363853"
      },
      "execution_count": 35,
      "outputs": [
        {
          "output_type": "stream",
          "name": "stdout",
          "text": [
            "(1, 2, 3, 4)\n"
          ]
        }
      ]
    },
    {
      "cell_type": "code",
      "source": [
        "#set\n",
        "print({1,2,3,4})"
      ],
      "metadata": {
        "colab": {
          "base_uri": "https://localhost:8080/"
        },
        "id": "oNFt-igPiE6O",
        "outputId": "39ce7f96-ad68-4b6b-d580-44f058a2bfc7"
      },
      "execution_count": 38,
      "outputs": [
        {
          "output_type": "stream",
          "name": "stdout",
          "text": [
            "{1, 2, 3, 4}\n"
          ]
        }
      ]
    },
    {
      "cell_type": "code",
      "source": [
        "#Dictionary\n",
        "print({'name':'neha','age':20})\n"
      ],
      "metadata": {
        "colab": {
          "base_uri": "https://localhost:8080/"
        },
        "id": "xHlS46s3iaO9",
        "outputId": "abb6c843-b72b-48e5-bb52-9ffa7b8ea8b2"
      },
      "execution_count": 43,
      "outputs": [
        {
          "output_type": "stream",
          "name": "stdout",
          "text": [
            "{'name': 'neha', 'age': 20}\n"
          ]
        }
      ]
    },
    {
      "cell_type": "markdown",
      "source": [
        "# Variables"
      ],
      "metadata": {
        "id": "XMYBDUO7qsKO"
      }
    },
    {
      "cell_type": "code",
      "source": [
        "#Variables: used to store data\n",
        "\n",
        "# C/C++\n",
        "name = 'Chaitali'\n",
        "print(name)\n",
        "\n",
        "a = 'Chaitali'\n",
        "b = 'neha'\n",
        "\n",
        "print(a + b)"
      ],
      "metadata": {
        "colab": {
          "base_uri": "https://localhost:8080/"
        },
        "id": "ecjZt3sCluZI",
        "outputId": "ffba298c-efdf-4c2a-a359-f6b7b38f700d"
      },
      "execution_count": 48,
      "outputs": [
        {
          "output_type": "stream",
          "name": "stdout",
          "text": [
            "Chaitali\n",
            "Chaitalineha\n"
          ]
        }
      ]
    },
    {
      "cell_type": "code",
      "source": [
        "# Dynamic Typing\n",
        "a = 5\n",
        "\n",
        "# Static Typing\n",
        "#int a = 5\n"
      ],
      "metadata": {
        "id": "hPLyYL3Soxqa"
      },
      "execution_count": 52,
      "outputs": []
    },
    {
      "cell_type": "code",
      "source": [
        "# Dynamic Binding\n",
        "a = 5\n",
        "print(a)\n",
        "a = 'Chaitali'\n",
        "print(a)\n",
        "\n",
        "# Static Binding\n",
        "#int a = 5\n",
        "#int b ='chaitali'\n"
      ],
      "metadata": {
        "colab": {
          "base_uri": "https://localhost:8080/"
        },
        "id": "u-1HtMbjpeOB",
        "outputId": "d47e4b65-a2d3-418f-e2a6-45c49c386d72"
      },
      "execution_count": 56,
      "outputs": [
        {
          "output_type": "stream",
          "name": "stdout",
          "text": [
            "5\n",
            "Chaitali\n"
          ]
        }
      ]
    },
    {
      "cell_type": "code",
      "source": [
        "a = 1\n",
        "b = 2\n",
        "c = 3\n",
        "print(a,b,c)"
      ],
      "metadata": {
        "colab": {
          "base_uri": "https://localhost:8080/"
        },
        "id": "nTuEruAdp57G",
        "outputId": "76cddbe1-7cd9-4d60-913e-2a482ced8842"
      },
      "execution_count": 57,
      "outputs": [
        {
          "output_type": "stream",
          "name": "stdout",
          "text": [
            "1 2 3\n"
          ]
        }
      ]
    },
    {
      "cell_type": "code",
      "source": [
        "a,b,c = 1,2,3 # multiple assignment\n",
        "print(a,b,c)"
      ],
      "metadata": {
        "colab": {
          "base_uri": "https://localhost:8080/"
        },
        "id": "X8gFH8hup6su",
        "outputId": "48b9c6ec-2fa5-4ff6-9bcc-da28f988c81e"
      },
      "execution_count": 66,
      "outputs": [
        {
          "output_type": "stream",
          "name": "stdout",
          "text": [
            "1 2 3\n"
          ]
        }
      ]
    },
    {
      "cell_type": "code",
      "source": [
        "a=b=c= 5   # assign same value to all\n",
        "print(a,b,c)"
      ],
      "metadata": {
        "colab": {
          "base_uri": "https://localhost:8080/"
        },
        "id": "D7codMQoqA2n",
        "outputId": "1372ef0e-1e9d-4d77-cbce-4aafd0c764ee"
      },
      "execution_count": 65,
      "outputs": [
        {
          "output_type": "stream",
          "name": "stdout",
          "text": [
            "5 5 5\n"
          ]
        }
      ]
    },
    {
      "cell_type": "markdown",
      "source": [
        "# Keywords & Identifiers"
      ],
      "metadata": {
        "id": "grt68HxPqTlk"
      }
    },
    {
      "cell_type": "code",
      "source": [
        "import keyword\n",
        "\n",
        "#keyword: reserve world by python\n",
        "#\"kwlist()\"\n",
        "\n",
        "print(keyword.kwlist)   # -- to see keyword list\n"
      ],
      "metadata": {
        "colab": {
          "base_uri": "https://localhost:8080/"
        },
        "id": "BR-BoATyqhvd",
        "outputId": "657a621b-23a2-4394-bff5-70360f706d62"
      },
      "execution_count": 64,
      "outputs": [
        {
          "output_type": "stream",
          "name": "stdout",
          "text": [
            "['False', 'None', 'True', 'and', 'as', 'assert', 'async', 'await', 'break', 'class', 'continue', 'def', 'del', 'elif', 'else', 'except', 'finally', 'for', 'from', 'global', 'if', 'import', 'in', 'is', 'lambda', 'nonlocal', 'not', 'or', 'pass', 'raise', 'return', 'try', 'while', 'with', 'yield']\n"
          ]
        }
      ]
    },
    {
      "cell_type": "code",
      "source": [
        "# Identifiers\n",
        "# You can't start with a digit\n",
        "name1 = 'Neha'\n",
        "print(name1)\n",
        "# You can use special chars -> _\n",
        "_ = 'neha'\n",
        "print(_)\n",
        "# identiers can not be keyword"
      ],
      "metadata": {
        "id": "VGhHv4rVsQXj"
      },
      "execution_count": null,
      "outputs": []
    },
    {
      "cell_type": "code",
      "source": [],
      "metadata": {
        "id": "ziVcymVJs813"
      },
      "execution_count": null,
      "outputs": []
    }
  ]
}